{
 "cells": [
  {
   "cell_type": "code",
   "execution_count": 13,
   "id": "a78867f6",
   "metadata": {},
   "outputs": [],
   "source": [
    "import numpy as np\n",
    "import matplotlib.pyplot as plt"
   ]
  },
  {
   "cell_type": "code",
   "execution_count": 2,
   "id": "d6e112e1",
   "metadata": {},
   "outputs": [],
   "source": [
    "x_train = np.array([1.0,2.0])   # in 1000s of sqft\n",
    "y_train = np.array([300.0,500.0]) # in 1000s of $"
   ]
  },
  {
   "cell_type": "markdown",
   "id": "2bbba598",
   "metadata": {},
   "source": [
    "Cost function  : \n",
    "    𝐽(𝑤,𝑏)=1 / 2𝑚  (∑𝑖=0 to 𝑚−1 (𝑓𝑤,𝑏(𝑥(𝑖))−𝑦(𝑖)) ** 2)\n",
    "where\n",
    "    𝑓𝑤,𝑏(𝑥(𝑖))=𝑤𝑥(𝑖)+𝑏"
   ]
  },
  {
   "cell_type": "code",
   "execution_count": 6,
   "id": "439ff4ea",
   "metadata": {},
   "outputs": [],
   "source": [
    "def compute_cost(x,y,w,b):\n",
    "    m = x.shape[0]\n",
    "    cost_sum = 0\n",
    "    for i in range(m):\n",
    "        f_wb = w * x[i] + b\n",
    "        cost = (f_wb - y[i]) ** 2\n",
    "        cost_sum = cost_sum + cost\n",
    "    total_cost = 1/2*m*(cost_sum)\n",
    "    return total_cost"
   ]
  },
  {
   "cell_type": "code",
   "execution_count": 11,
   "id": "615968e2",
   "metadata": {},
   "outputs": [
    {
     "data": {
      "text/plain": [
       "0.0"
      ]
     },
     "execution_count": 11,
     "metadata": {},
     "output_type": "execute_result"
    }
   ],
   "source": [
    "compute_cost(x_train,y_train,200,100)"
   ]
  },
  {
   "cell_type": "markdown",
   "id": "82e6c1ca",
   "metadata": {},
   "source": [
    "Nice! we got cost = 0,so our model as zero error,\n",
    "lets try the same for a slightly large dataset:"
   ]
  },
  {
   "cell_type": "code",
   "execution_count": 15,
   "id": "ddddca20",
   "metadata": {},
   "outputs": [],
   "source": [
    "X_train = np.array([1.0, 1.7, 2.0, 2.5, 3.0, 3.2])\n",
    "Y_train = np.array([250, 300, 480,  430,   630, 730,])"
   ]
  },
  {
   "cell_type": "markdown",
   "id": "1941b85d",
   "metadata": {},
   "source": [
    "the best values of w and b to get the most minimum cost is 209 and 2.4 respectively"
   ]
  },
  {
   "cell_type": "code",
   "execution_count": 18,
   "id": "1551e5a7",
   "metadata": {},
   "outputs": [
    {
     "data": {
      "text/plain": [
       "62505.65999999998"
      ]
     },
     "execution_count": 18,
     "metadata": {},
     "output_type": "execute_result"
    }
   ],
   "source": [
    "compute_cost(X_train,Y_train,209,2.4)"
   ]
  }
 ],
 "metadata": {
  "kernelspec": {
   "display_name": "Python 3 (ipykernel)",
   "language": "python",
   "name": "python3"
  },
  "language_info": {
   "codemirror_mode": {
    "name": "ipython",
    "version": 3
   },
   "file_extension": ".py",
   "mimetype": "text/x-python",
   "name": "python",
   "nbconvert_exporter": "python",
   "pygments_lexer": "ipython3",
   "version": "3.9.7"
  }
 },
 "nbformat": 4,
 "nbformat_minor": 5
}
