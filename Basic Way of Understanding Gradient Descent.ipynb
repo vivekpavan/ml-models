{
 "cells": [
  {
   "cell_type": "code",
   "execution_count": 1,
   "id": "da6c46fe",
   "metadata": {},
   "outputs": [],
   "source": [
    "import math,copy\n",
    "import numpy as np\n",
    "import matplotlib.pyplot as plt"
   ]
  },
  {
   "cell_type": "markdown",
   "id": "2f5adc6a",
   "metadata": {},
   "source": [
    "Lets consider a small dataset for understanding"
   ]
  },
  {
   "cell_type": "code",
   "execution_count": 2,
   "id": "036fcf4a",
   "metadata": {},
   "outputs": [],
   "source": [
    "x_train = np.array([1.0,2.0])\n",
    "y_train = np.array([300.0,500.0])"
   ]
  },
  {
   "cell_type": "markdown",
   "id": "c6c7ae75",
   "metadata": {},
   "source": [
    "Lets compute the cost first\n",
    "\n",
    "𝐽(𝑤,𝑏)=1/2𝑚*(∑𝑖=0 to 𝑚−1 (𝑓𝑤,𝑏(𝑥(𝑖))−𝑦(𝑖))**2)"
   ]
  },
  {
   "cell_type": "code",
   "execution_count": 3,
   "id": "86bbe356",
   "metadata": {},
   "outputs": [],
   "source": [
    "def compute_cost(x,y,w,b):\n",
    "    m = x.shape[0]\n",
    "    cost = 0\n",
    "    for i in range(m):\n",
    "        f_wb = w * x[i] + b\n",
    "        cost =cost + (f_wb - y[i])**2\n",
    "    total_cost = 1/(2*m) * cost\n",
    "    return total_cost\n",
    "    "
   ]
  },
  {
   "cell_type": "markdown",
   "id": "4058337d",
   "metadata": {},
   "source": [
    "Now lets look at gradient descent:\n",
    "\n",
    "repeat untill convergence : {\n",
    "\n",
    "    w = w - alpha * dJ(w,b)/dw\n",
    "    \n",
    "    b = b - alpha * dJ(w,b)/db\n",
    "    }\n",
    "    \n",
    "Further,\n",
    "\n",
    "    ∂𝐽(𝑤,𝑏)/∂𝑤 = = 1/𝑚 ∑𝑖=0 to 𝑚−1(𝑓𝑤,𝑏(𝑥(𝑖))−𝑦(𝑖))𝑥(𝑖)\n",
    "    \n",
    "    ∂𝐽(𝑤,𝑏)/∂𝑏 = 1/𝑚 ∑𝑖=0 to 𝑚−1(𝑓𝑤,𝑏(𝑥(𝑖))−𝑦(𝑖))"
   ]
  },
  {
   "cell_type": "code",
   "execution_count": 5,
   "id": "f46c2913",
   "metadata": {},
   "outputs": [],
   "source": [
    "def compute_gradient(x,y,w,b):\n",
    "    dj_dw = 0;\n",
    "    dj_db = 0;\n",
    "    m = x.shape[0]\n",
    "    for i in range(m):\n",
    "        f_wb = w * x[i] + b\n",
    "        dj_dw_i = (f_wb  - y[i]) * x[i]\n",
    "        dj_db_i = f_wb - y[i]\n",
    "        dj_dw += dj_dw_i\n",
    "        dj_db += dj_db_i\n",
    "    dj_dw = dj_dw / m\n",
    "    dj_db = dj_db / m\n",
    "    return dj_dw,dj_db"
   ]
  },
  {
   "cell_type": "markdown",
   "id": "bfc74afb",
   "metadata": {},
   "source": [
    "Now we iterate over the gradient_descent and constantly updating w and b to find the optimal w and b"
   ]
  },
  {
   "cell_type": "code",
   "execution_count": 10,
   "id": "1de53d26",
   "metadata": {},
   "outputs": [],
   "source": [
    "def gradient_descent(x,y,w_in,b_in,alpha,num_iters,cost_function,compute_gradient):\n",
    "    J_history = []\n",
    "    p_history = []\n",
    "    w = w_in\n",
    "    b = b_in\n",
    "    \n",
    "#     Calculate the gradient using the compute_gradient function\n",
    "    for i in range(num_iters):\n",
    "        dj_dw,dj_db = compute_gradient(x,y,w,b)\n",
    "        w = w - alpha * dj_dw\n",
    "        b = b - alpha * dj_db\n",
    "        if(i < 10000):\n",
    "                J_history.append(compute_cost(x,y,w,b))\n",
    "                p_history.append([w,b])\n",
    "        if i% math.ceil(num_iters/10) == 0:\n",
    "            print(f\"Iterations {i:4}:Cost {J_history[-1]:0.2e}\",\n",
    "                 f\"dj_dw : {dj_dw : 0.3e},dj_db : {dj_db : 0.3e}\",\n",
    "                 f\"w:{w:0.3e}, b : {b:0.5e}\")\n",
    "    return w,b,J_history,p_history\n",
    "    "
   ]
  },
  {
   "cell_type": "markdown",
   "id": "2be7c71d",
   "metadata": {},
   "source": [
    "Now letsfill the arguements of the gradient_descent function with appropriate values"
   ]
  },
  {
   "cell_type": "code",
   "execution_count": 15,
   "id": "5f6d8758",
   "metadata": {},
   "outputs": [
    {
     "name": "stdout",
     "output_type": "stream",
     "text": [
      "Iterations    0:Cost 7.93e+04 dj_dw : -6.500e+02,dj_db : -4.000e+02 w:6.500e+00, b : 4.00000e+00\n",
      "Iterations 1000:Cost 3.41e+00 dj_dw : -3.712e-01,dj_db :  6.007e-01 w:1.949e+02, b : 1.08228e+02\n",
      "Iterations 2000:Cost 7.93e-01 dj_dw : -1.789e-01,dj_db :  2.895e-01 w:1.975e+02, b : 1.03966e+02\n",
      "Iterations 3000:Cost 1.84e-01 dj_dw : -8.625e-02,dj_db :  1.396e-01 w:1.988e+02, b : 1.01912e+02\n",
      "Iterations 4000:Cost 4.28e-02 dj_dw : -4.158e-02,dj_db :  6.727e-02 w:1.994e+02, b : 1.00922e+02\n",
      "Iterations 5000:Cost 9.95e-03 dj_dw : -2.004e-02,dj_db :  3.243e-02 w:1.997e+02, b : 1.00444e+02\n",
      "Iterations 6000:Cost 2.31e-03 dj_dw : -9.660e-03,dj_db :  1.563e-02 w:1.999e+02, b : 1.00214e+02\n",
      "Iterations 7000:Cost 5.37e-04 dj_dw : -4.657e-03,dj_db :  7.535e-03 w:1.999e+02, b : 1.00103e+02\n",
      "Iterations 8000:Cost 1.25e-04 dj_dw : -2.245e-03,dj_db :  3.632e-03 w:2.000e+02, b : 1.00050e+02\n",
      "Iterations 9000:Cost 2.90e-05 dj_dw : -1.082e-03,dj_db :  1.751e-03 w:2.000e+02, b : 1.00024e+02\n",
      "w :  199.9929 , b :  100.01157 \n"
     ]
    }
   ],
   "source": [
    "w_init = 0\n",
    "b_init = 0\n",
    "iterations = 10000\n",
    "tmp_alpha = 1.0e-2\n",
    "w_final,b_final,J_hist,p_hist = gradient_descent(x_train,y_train,w_init,b_init,tmp_alpha,iterations,compute_cost,compute_gradient)\n",
    "print(f\"w : {w_final : 4.4f} , b : {b_final : 4.5f} \")"
   ]
  },
  {
   "cell_type": "code",
   "execution_count": 16,
   "id": "10c4b4cb",
   "metadata": {},
   "outputs": [
    {
     "data": {
      "image/png": "[encoded data removed]",
      "text/plain": [
       "<Figure size 864x288 with 2 Axes>"
      ]
     },
     "metadata": {
      "needs_background": "light"
     },
     "output_type": "display_data"
    }
   ],
   "source": [
    "fig, (ax1, ax2) = plt.subplots(1, 2, constrained_layout=True, figsize=(12,4))\n",
    "ax1.plot(J_hist[:100])\n",
    "ax2.plot(1000 + np.arange(len(J_hist[1000:])), J_hist[1000:])\n",
    "ax1.set_title(\"Cost vs. iteration(start)\");  ax2.set_title(\"Cost vs. iteration (end)\")\n",
    "ax1.set_ylabel('Cost')            ;  ax2.set_ylabel('Cost') \n",
    "ax1.set_xlabel('iteration step')  ;  ax2.set_xlabel('iteration step') \n",
    "plt.show()"
   ]
  },
  {
   "cell_type": "markdown",
   "id": "434b18df",
   "metadata": {},
   "source": [
    "Now lets make prediction with the w_final and b_final and see what results we get:"
   ]
  },
  {
   "cell_type": "code",
   "execution_count": 17,
   "id": "7d84c2f2",
   "metadata": {},
   "outputs": [
    {
     "name": "stdout",
     "output_type": "stream",
     "text": [
      "1200 sqft house prediction 340.0 Thousand dollars\n",
      "2000 sqft house prediction 500.0 Thousand dollars\n"
     ]
    }
   ],
   "source": [
    "print(f\"1200 sqft house prediction {w_final*1.2 + b_final:0.1f} Thousand dollars\")\n",
    "print(f\"2000 sqft house prediction {w_final*2.0 + b_final:0.1f} Thousand dollars\")"
   ]
  }
 ],
 "metadata": {
  "kernelspec": {
   "display_name": "Python 3 (ipykernel)",
   "language": "python",
   "name": "python3"
  },
  "language_info": {
   "codemirror_mode": {
    "name": "ipython",
    "version": 3
   },
   "file_extension": ".py",
   "mimetype": "text/x-python",
   "name": "python",
   "nbconvert_exporter": "python",
   "pygments_lexer": "ipython3",
   "version": "3.9.7"
  }
 },
 "nbformat": 4,
 "nbformat_minor": 5
}
