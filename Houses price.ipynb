{
 "cells": [
  {
   "cell_type": "code",
   "execution_count": 1,
   "id": "c1f3f8f4",
   "metadata": {},
   "outputs": [],
   "source": [
    "import numpy as np\n",
    "import matplotlib.pyplot as plt"
   ]
  },
  {
   "cell_type": "code",
   "execution_count": 3,
   "id": "e104ab90",
   "metadata": {},
   "outputs": [],
   "source": [
    "from sklearn.linear_model import SGDRegressor\n",
    "from sklearn.preprocessing import StandardScaler"
   ]
  },
  {
   "cell_type": "code",
   "execution_count": 11,
   "id": "601f3751",
   "metadata": {},
   "outputs": [],
   "source": [
    "def load_house_data():\n",
    "    data = np.loadtxt('./Downloads/houses.txt', delimiter=',', skiprows=1)\n",
    "    X = data[:,:4]\n",
    "    y = data[:,4]\n",
    "    return X, y"
   ]
  },
  {
   "cell_type": "code",
   "execution_count": 16,
   "id": "4ff7df4f",
   "metadata": {},
   "outputs": [],
   "source": [
    "X_train,y_train = load_house_data()\n",
    "X_features = ['size(sqft)','bedrooms','floors','age']"
   ]
  },
  {
   "cell_type": "markdown",
   "id": "5aa6a015",
   "metadata": {},
   "source": [
    "Normalizing the training data"
   ]
  },
  {
   "cell_type": "code",
   "execution_count": 17,
   "id": "074e5a9f",
   "metadata": {},
   "outputs": [
    {
     "name": "stdout",
     "output_type": "stream",
     "text": [
      "Peak to Peak range by column in raw    X:[2.406e+03 4.000e+00 1.000e+00 9.500e+01]\n",
      "Peak to Peak range by column in   X : [5.8452591  6.13529646 2.05626214 3.68533012]\n"
     ]
    }
   ],
   "source": [
    "scaler = StandardScaler()\n",
    "X_norm = scaler.fit_transform(X_train)\n",
    "print(f\"Peak to Peak range by column in raw    X:{np.ptp(X_train,axis = 0)}\")\n",
    "print(f\"Peak to Peak range by column in   X : {np.ptp(X_norm,axis = 0)}\")\n"
   ]
  },
  {
   "cell_type": "code",
   "execution_count": 18,
   "id": "e4fe0d25",
   "metadata": {},
   "outputs": [
    {
     "name": "stdout",
     "output_type": "stream",
     "text": [
      "SGDRegressor()\n",
      "number of iteration completed : 144,number of weight updates : 14257.0\n"
     ]
    }
   ],
   "source": [
    "sgdr = SGDRegressor(max_iter = 1000)\n",
    "sgdr.fit(X_norm,y_train)\n",
    "print(sgdr)\n",
    "print(f\"number of iteration completed : {sgdr.n_iter_},number of weight updates : {sgdr.t_}\")"
   ]
  },
  {
   "cell_type": "code",
   "execution_count": 19,
   "id": "df2822ae",
   "metadata": {},
   "outputs": [
    {
     "name": "stdout",
     "output_type": "stream",
     "text": [
      "model parameter :    w : [110.33146174 -21.15411817 -32.56667263 -37.9698611 ], b : [363.1521784]\n"
     ]
    }
   ],
   "source": [
    "b_norm = sgdr.intercept_\n",
    "w_norm = sgdr.coef_\n",
    "print(f\"model parameter :    w : {w_norm}, b : {b_norm}\")"
   ]
  },
  {
   "cell_type": "markdown",
   "id": "8eb5725e",
   "metadata": {},
   "source": [
    "Make Predictions"
   ]
  },
  {
   "cell_type": "code",
   "execution_count": 32,
   "id": "d81648ed",
   "metadata": {},
   "outputs": [
    {
     "name": "stdout",
     "output_type": "stream",
     "text": [
      "prediction using sgdr,predict and np.dot match : True\n",
      "Prediction on training set :\n",
      "[295.20766632 485.90685573 389.57682071 492.06932003]\n",
      "Target value \n",
      "[300.  509.8 394.  540. ]\n"
     ]
    }
   ],
   "source": [
    "y_pred_sgd = sgdr.predict(X_norm)\n",
    "y_pred = np.dot(X_norm,w_norm) + b_norm\n",
    "print(f\"prediction using sgdr,predict and np.dot match : {(y_pred_sgd == y_pred).all()}\")\n",
    "print(f\"Prediction on training set :\\n{y_pred[:4]}\")\n",
    "print(f\"Target value \\n{y_train[:4]}\")"
   ]
  },
  {
   "cell_type": "code",
   "execution_count": 34,
   "id": "e2468af0",
   "metadata": {},
   "outputs": [
    {
     "name": "stdout",
     "output_type": "stream",
     "text": [
      "16.80419607618162\n"
     ]
    }
   ],
   "source": [
    "from sklearn.metrics import mean_absolute_error\n",
    "mae = mean_absolute_error(y_pred_sgd,y_train)\n",
    "print(mae)"
   ]
  },
  {
   "cell_type": "code",
   "execution_count": null,
   "id": "83fdd12e",
   "metadata": {},
   "outputs": [],
   "source": []
  }
 ],
 "metadata": {
  "kernelspec": {
   "display_name": "Python 3 (ipykernel)",
   "language": "python",
   "name": "python3"
  },
  "language_info": {
   "codemirror_mode": {
    "name": "ipython",
    "version": 3
   },
   "file_extension": ".py",
   "mimetype": "text/x-python",
   "name": "python",
   "nbconvert_exporter": "python",
   "pygments_lexer": "ipython3",
   "version": "3.9.7"
  }
 },
 "nbformat": 4,
 "nbformat_minor": 5
}
