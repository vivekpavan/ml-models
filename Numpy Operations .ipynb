{
 "cells": [
  {
   "cell_type": "code",
   "execution_count": 2,
   "id": "55ef2287",
   "metadata": {},
   "outputs": [],
   "source": [
    "import numpy as np"
   ]
  },
  {
   "cell_type": "code",
   "execution_count": 4,
   "id": "8243c19a",
   "metadata": {},
   "outputs": [
    {
     "name": "stdout",
     "output_type": "stream",
     "text": [
      "[0. 0. 0. 0.] (4,) float64\n"
     ]
    }
   ],
   "source": [
    "a = np.zeros(4)\n",
    "print(a , a.shape   , a.dtype)"
   ]
  },
  {
   "cell_type": "code",
   "execution_count": 6,
   "id": "8ced4340",
   "metadata": {},
   "outputs": [
    {
     "name": "stdout",
     "output_type": "stream",
     "text": [
      "[[0. 0.]\n",
      " [0. 0.]\n",
      " [0. 0.]\n",
      " [0. 0.]] (4, 2) float64\n"
     ]
    }
   ],
   "source": [
    "a = np.zeros((4,2))\n",
    "print(a, a.shape , a.dtype)"
   ]
  },
  {
   "cell_type": "code",
   "execution_count": 8,
   "id": "60d8f6ce",
   "metadata": {},
   "outputs": [
    {
     "name": "stdout",
     "output_type": "stream",
     "text": [
      "[0.05263663 0.100699   0.73385881 0.98824419] (4,) float64\n"
     ]
    }
   ],
   "source": [
    "a = np.random.random_sample(4)\n",
    "print(a, a.shape, a.dtype)"
   ]
  },
  {
   "cell_type": "code",
   "execution_count": 13,
   "id": "537853f3",
   "metadata": {},
   "outputs": [
    {
     "name": "stdout",
     "output_type": "stream",
     "text": [
      "[0. 1. 2. 3.] (4,) float64\n"
     ]
    }
   ],
   "source": [
    "a = np.arange(4.)\n",
    "print(a , a.shape , a.dtype)"
   ]
  },
  {
   "cell_type": "code",
   "execution_count": 23,
   "id": "07adf5af",
   "metadata": {},
   "outputs": [
    {
     "name": "stdout",
     "output_type": "stream",
     "text": [
      "[0.90416353 0.65100254 0.8862743  0.43014791] (4,) float64\n"
     ]
    }
   ],
   "source": [
    "a = np.random.rand(4)\n",
    "print(a , a.shape , a.dtype)"
   ]
  },
  {
   "cell_type": "code",
   "execution_count": 24,
   "id": "b2d77cb4",
   "metadata": {},
   "outputs": [
    {
     "name": "stdout",
     "output_type": "stream",
     "text": [
      "[1 2 3 4] (4,) int32\n"
     ]
    }
   ],
   "source": [
    "a = np.array([1,2,3,4])\n",
    "print(a , a.shape , a.dtype)"
   ]
  },
  {
   "cell_type": "code",
   "execution_count": 25,
   "id": "d50f4de3",
   "metadata": {},
   "outputs": [
    {
     "name": "stdout",
     "output_type": "stream",
     "text": [
      "[5. 4. 3. 7.] (4,) float64\n"
     ]
    }
   ],
   "source": [
    "a = np.array([5.,4,3,7])\n",
    "print(a , a.shape , a.dtype)"
   ]
  },
  {
   "cell_type": "code",
   "execution_count": 32,
   "id": "874de2f2",
   "metadata": {},
   "outputs": [
    {
     "name": "stdout",
     "output_type": "stream",
     "text": [
      "2 () , so we can infer the elemnts present in Vector(1-D array) are Scalar\n",
      "a[-1] : 9\n",
      "The error message is: index 10 is out of bounds for axis 0 with size 10\n"
     ]
    }
   ],
   "source": [
    "a = np.arange(10)\n",
    "print(a[2],a[2].shape,\", so we can infer the elemnts present in Vector(1-D array) are Scalar\")\n",
    "print(f\"a[-1] : {a[-1]}\")\n",
    "try:\n",
    "    c = a[10]\n",
    "except Exception as e:\n",
    "    print(\"The error message is:\",e)"
   ]
  },
  {
   "cell_type": "code",
   "execution_count": 34,
   "id": "bd6ad524",
   "metadata": {},
   "outputs": [
    {
     "name": "stdout",
     "output_type": "stream",
     "text": [
      "a          [0 1 2 3 4 5 6 7 8 9]\n",
      "a[2:7:1] = [2 3 4 5 6]\n",
      "a[2:7:2] = [2 4 6]\n",
      "a[3:] = [3 4 5 6 7 8 9]\n",
      "a[:3] = [0 1 2]\n",
      "a[:] = [0 1 2 3 4 5 6 7 8 9]\n"
     ]
    }
   ],
   "source": [
    "a = np.arange(10)\n",
    "print(\"a         \",a)\n",
    "c = a[2:7:1]\n",
    "print(f\"a[2:7:1] = {c}\")\n",
    "c = a[2:7:2]\n",
    "print(f\"a[2:7:2] = {c}\")\n",
    "c = a[3:]\n",
    "print(f\"a[3:] = {c}\")\n",
    "c = a[:3]\n",
    "print(f\"a[:3] = {c}\")\n",
    "c = a[:]\n",
    "print(f\"a[:] = {c}\")"
   ]
  },
  {
   "cell_type": "code",
   "execution_count": 35,
   "id": "00698632",
   "metadata": {},
   "outputs": [
    {
     "name": "stdout",
     "output_type": "stream",
     "text": [
      "[-1 -2 -3 -4]\n",
      "10\n",
      "2.5\n",
      "[ 1  4  9 16]\n"
     ]
    }
   ],
   "source": [
    "a = np.array([1,2,3,4])\n",
    "b = -a\n",
    "print(b)\n",
    "b = np.sum(a)\n",
    "print(b)\n",
    "b = np.mean(a)\n",
    "print(b)\n",
    "b = a**2\n",
    "print(b)"
   ]
  },
  {
   "cell_type": "markdown",
   "id": "95160802",
   "metadata": {},
   "source": [
    "Vector  - Vector elementwise operations"
   ]
  },
  {
   "cell_type": "code",
   "execution_count": 36,
   "id": "68c8319d",
   "metadata": {},
   "outputs": [
    {
     "name": "stdout",
     "output_type": "stream",
     "text": [
      "a+b = [0 0 6 8]\n"
     ]
    }
   ],
   "source": [
    "a = np.array([-1,-2,3,4])\n",
    "b = np.array([1,2,3,4])\n",
    "print(f\"a+b = {a+b}\")"
   ]
  },
  {
   "cell_type": "markdown",
   "id": "6a3dbb2e",
   "metadata": {},
   "source": [
    "when dimension of vectors differ elementwise operations are not possible"
   ]
  },
  {
   "cell_type": "code",
   "execution_count": 39,
   "id": "29bcd491",
   "metadata": {},
   "outputs": [
    {
     "name": "stdout",
     "output_type": "stream",
     "text": [
      "The error messasge is : operands could not be broadcast together with shapes (4,) (2,) \n"
     ]
    }
   ],
   "source": [
    "c = np.array([1,2])\n",
    "try:\n",
    "    a+c\n",
    "except Exception as e:\n",
    "    print(\"The error messasge is :\",e )"
   ]
  },
  {
   "cell_type": "markdown",
   "id": "d1517997",
   "metadata": {},
   "source": [
    "Scalar Vector Operation:"
   ]
  },
  {
   "cell_type": "code",
   "execution_count": 41,
   "id": "276f2179",
   "metadata": {},
   "outputs": [
    {
     "name": "stdout",
     "output_type": "stream",
     "text": [
      "[ 5 10 15 20]\n"
     ]
    }
   ],
   "source": [
    "a = np.array([1,2,3,4])\n",
    "b = 5 * a\n",
    "print(b)"
   ]
  },
  {
   "cell_type": "markdown",
   "id": "417b1950",
   "metadata": {},
   "source": [
    "Vector Vector Dot Product"
   ]
  },
  {
   "cell_type": "markdown",
   "id": "7a803c37",
   "metadata": {},
   "source": [
    "The dot product multiplies the values in two vectors element-wise and then sums the result. Vector dot product requires the dimensions of the two vectors to be the same."
   ]
  },
  {
   "cell_type": "markdown",
   "id": "7e13442e",
   "metadata": {},
   "source": [
    "Lets try to implement using for loop"
   ]
  },
  {
   "cell_type": "code",
   "execution_count": 44,
   "id": "2dde3499",
   "metadata": {},
   "outputs": [],
   "source": [
    "def my_dot(a,b):\n",
    "    m = a.shape[0]\n",
    "    sum =0\n",
    "    for i in range(m):\n",
    "        sum = sum + a[i] * b[i]\n",
    "    return sum"
   ]
  },
  {
   "cell_type": "code",
   "execution_count": 45,
   "id": "339482b9",
   "metadata": {},
   "outputs": [
    {
     "name": "stdout",
     "output_type": "stream",
     "text": [
      "dot product : 80\n"
     ]
    }
   ],
   "source": [
    "a = np.array([1,2,3,4])\n",
    "b = np.array([6,7,8,9])\n",
    "print(\"dot product :\",my_dot(a,b))"
   ]
  },
  {
   "cell_type": "markdown",
   "id": "f8aa7696",
   "metadata": {},
   "source": [
    "Lets try the same with numpy:"
   ]
  },
  {
   "cell_type": "code",
   "execution_count": 50,
   "id": "b834b6e9",
   "metadata": {},
   "outputs": [
    {
     "name": "stdout",
     "output_type": "stream",
     "text": [
      "80\n",
      "Shape = () so the dot product is scalar\n"
     ]
    }
   ],
   "source": [
    "a = np.array([1,2,3,4])\n",
    "b = np.array([6,7,8,9])\n",
    "c = np.dot(a,b)\n",
    "print(c)\n",
    "print(f\"Shape = {c.shape}\" ,\"so the dot product is scalar\")"
   ]
  },
  {
   "cell_type": "markdown",
   "id": "57285092",
   "metadata": {},
   "source": [
    "Lets See The Time Diffrence between Both These Approach"
   ]
  },
  {
   "cell_type": "code",
   "execution_count": 56,
   "id": "6870e059",
   "metadata": {},
   "outputs": [
    {
     "name": "stdout",
     "output_type": "stream",
     "text": [
      "2501072.5817 , time taken by vectorized approach,6.0010 ms\n",
      "2501072.5817 , time taken by vectorized approach,1953.2516 ms\n"
     ]
    }
   ],
   "source": [
    "import time\n",
    "np.random.seed(1)\n",
    "a = np.random.rand(10000000)\n",
    "b = np.random.rand(10000000)\n",
    "# vectorization approach\n",
    "tic = time.time()\n",
    "c = np.dot(a,b)\n",
    "toc = time.time()\n",
    "print(f\"{c:.4f} , time taken by vectorized approach,{1000 * (toc - tic):.4f} ms\")\n",
    "# iterative approach\n",
    "tic = time.time()\n",
    "c = my_dot(a,b)\n",
    "toc = time.time()\n",
    "print(f\"{c:.4f} , time taken by vectorized approach,{1000 * (toc - tic):.4f} ms\")\n"
   ]
  },
  {
   "cell_type": "markdown",
   "id": "c8683f83",
   "metadata": {},
   "source": [
    "Matrix (2D Arrays)"
   ]
  },
  {
   "cell_type": "code",
   "execution_count": 58,
   "id": "36fc2d8e",
   "metadata": {},
   "outputs": [
    {
     "name": "stdout",
     "output_type": "stream",
     "text": [
      "[[0. 0.]]\n",
      "[[0.]\n",
      " [0.]]\n"
     ]
    }
   ],
   "source": [
    "a = np.zeros((1,2))\n",
    "print(a)\n",
    "b = np.zeros((2,1))\n",
    "print(b)"
   ]
  },
  {
   "cell_type": "code",
   "execution_count": 63,
   "id": "29349993",
   "metadata": {},
   "outputs": [
    {
     "name": "stdout",
     "output_type": "stream",
     "text": [
      "[[2]\n",
      " [3]\n",
      " [4]] (3, 1)\n",
      "[[1 2 3]] (1, 3)\n"
     ]
    }
   ],
   "source": [
    "a = np.array([[2],[3],[4]])\n",
    "print(a , a.shape)\n",
    "b = np.array([[1,2,3]])\n",
    "print(b , b.shape)"
   ]
  },
  {
   "cell_type": "markdown",
   "id": "1264474a",
   "metadata": {},
   "source": [
    "Matrix Indexing"
   ]
  },
  {
   "cell_type": "code",
   "execution_count": 68,
   "id": "efa9941f",
   "metadata": {},
   "outputs": [
    {
     "name": "stdout",
     "output_type": "stream",
     "text": [
      "[[0 1]\n",
      " [2 3]\n",
      " [4 5]]\n",
      "4\n",
      "[4 5]\n"
     ]
    }
   ],
   "source": [
    "a = np.arange(6).reshape(-1,2)\n",
    "print(a)\n",
    "# accessing an element\n",
    "print(a[2,0])\n",
    "# accessing the row\n",
    "print(a[2])"
   ]
  },
  {
   "cell_type": "markdown",
   "id": "035e1600",
   "metadata": {},
   "source": [
    "Slicing The Matrix\n",
    "\n",
    "a[row number,column number]\n",
    "\n",
    "a[m,n]"
   ]
  },
  {
   "cell_type": "code",
   "execution_count": 77,
   "id": "6c2f2b11",
   "metadata": {},
   "outputs": [
    {
     "name": "stdout",
     "output_type": "stream",
     "text": [
      "[[ 0  1  2  3  4  5  6  7  8  9]\n",
      " [10 11 12 13 14 15 16 17 18 19]]\n",
      "[2 3 4 5 6]\n",
      "[[ 2  3  4  5  6]\n",
      " [12 13 14 15 16]]\n",
      "[[ 0  1  2  3  4  5  6  7  8  9]\n",
      " [10 11 12 13 14 15 16 17 18 19]]\n",
      "[0 1 2 3 4 5 6 7 8 9]\n",
      "[0 1 2 3 4 5 6 7 8 9]\n"
     ]
    }
   ],
   "source": [
    "a = np.arange(20).reshape(-1,10)\n",
    "print(a)\n",
    "# access 5 elements of 1st row\n",
    "print(a[0,2:7:1])\n",
    "# access 5 elements from 2 rows\n",
    "print(a[:,2:7:1])\n",
    "# access all elements\n",
    "print(a[:,:])\n",
    "# access elements from 1st row\n",
    "print(a[0,])\n",
    "# OR\n",
    "print(a[0])"
   ]
  },
  {
   "cell_type": "markdown",
   "id": "b75bd2e0",
   "metadata": {},
   "source": [
    "Nice! Now you have good understanding about basic numpy features for ML"
   ]
  },
  {
   "cell_type": "code",
   "execution_count": null,
   "id": "fc0c904c",
   "metadata": {},
   "outputs": [],
   "source": []
  }
 ],
 "metadata": {
  "kernelspec": {
   "display_name": "Python 3 (ipykernel)",
   "language": "python",
   "name": "python3"
  },
  "language_info": {
   "codemirror_mode": {
    "name": "ipython",
    "version": 3
   },
   "file_extension": ".py",
   "mimetype": "text/x-python",
   "name": "python",
   "nbconvert_exporter": "python",
   "pygments_lexer": "ipython3",
   "version": "3.9.7"
  }
 },
 "nbformat": 4,
 "nbformat_minor": 5
}
